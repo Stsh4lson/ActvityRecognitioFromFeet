{
 "metadata": {
  "language_info": {
   "codemirror_mode": {
    "name": "ipython",
    "version": 3
   },
   "file_extension": ".py",
   "mimetype": "text/x-python",
   "name": "python",
   "nbconvert_exporter": "python",
   "pygments_lexer": "ipython3",
   "version": "3.8.3-final"
  },
  "orig_nbformat": 2,
  "kernelspec": {
   "name": "python3",
   "display_name": "Python 3"
  }
 },
 "nbformat": 4,
 "nbformat_minor": 2,
 "cells": [
  {
   "cell_type": "code",
   "execution_count": 11,
   "metadata": {},
   "outputs": [],
   "source": [
    "import numpy as np\n",
    "import pandas as pd\n",
    "import os\n",
    "import re\n",
    "from io import StringIO\n",
    "from tqdm import tqdm"
   ]
  },
  {
   "cell_type": "code",
   "execution_count": 12,
   "metadata": {
    "tags": []
   },
   "outputs": [
    {
     "output_type": "stream",
     "name": "stdout",
     "text": "Directory data_summaries already exists\n"
    }
   ],
   "source": [
    "folder_name = 'data_summaries'\n",
    "try:\n",
    "    os.mkdir(folder_name)\n",
    "    print(\"Directory\" , folder_name ,  \"created \") \n",
    "except FileExistsError:\n",
    "    print(\"Directory\" , folder_name ,  \"already exists\")\n",
    "\n",
    "for folder in os.listdir('data'):\n",
    "    with open(os.path.join(folder_name, 'summary_{}.txt'.format(str(folder))), \"w\") as outfile:\n",
    "        for textfile in os.listdir(os.path.join('data', folder)):\n",
    "            contents = open( os.path.join('data', folder, textfile) ).read()\n",
    "            outfile.write(contents)"
   ]
  },
  {
   "cell_type": "code",
   "execution_count": 13,
   "metadata": {
    "tags": []
   },
   "outputs": [
    {
     "output_type": "execute_result",
     "data": {
      "text/plain": "['summary_sub10.txt',\n 'summary_sub12.txt',\n 'summary_sub13.txt',\n 'summary_Sub15.txt',\n 'summary_Sub2.txt',\n 'summary_Sub31.txt',\n 'summary_Sub32.txt',\n 'summary_sub5.txt',\n 'summary_Sub6.txt',\n 'summary_sub7.txt',\n 'summary_sub8.txt']"
     },
     "metadata": {},
     "execution_count": 13
    }
   ],
   "source": [
    "data_summaries = pd.read_excel('data.xlsx')\n",
    "file_list = os.listdir('data_summaries')\n",
    "file_list"
   ]
  },
  {
   "cell_type": "code",
   "execution_count": 14,
   "metadata": {},
   "outputs": [],
   "source": [
    "def listToString(s):  \n",
    "    str1 = '' \n",
    "    for ele in s:  \n",
    "        str1 += ele\n",
    "    return str1"
   ]
  },
  {
   "cell_type": "code",
   "execution_count": 22,
   "metadata": {
    "tags": []
   },
   "outputs": [
    {
     "output_type": "stream",
     "name": "stderr",
     "text": "100%|██████████| 204712/204712 [00:02<00:00, 85777.77it/s]\n"
    }
   ],
   "source": [
    "data_rows = []\n",
    "columns = ['COLUMN_{}'.format(x) for x in range(14)] + ['MEASUREMENT_NO', 'TYPE_ID']\n",
    "df = pd.DataFrame(columns=columns)\n",
    "with open (os.path.join('data_summaries', file_list[0]), 'r') as text_file:\n",
    "    string = text_file.readlines()\n",
    "    for line in tqdm(string):\n",
    "        line_string = listToString(line)\n",
    "        if len([s for s in line_string if '\\t' in s]) >= 13:\n",
    "            data_rows.append(line_string)\n",
    "\n",
    "columns = ['C_{}'.format(x) for x in range(12)] + ['TYPE_ID', 'MEASUREMENT_NO']\n",
    "df = pd.read_csv(StringIO(listToString(data_rows)), sep='\\t', header=None, usecols=range(14))\n",
    "df.columns = columns"
   ]
  },
  {
   "cell_type": "code",
   "execution_count": 23,
   "metadata": {},
   "outputs": [
    {
     "output_type": "execute_result",
     "data": {
      "text/plain": "           C_0     C_1     C_2     C_3     C_4     C_5     C_6     C_7  \\\n0       2370.0  2345.0  2751.0  1604.0  2711.0  2726.0  0.7271  0.5739   \n1       2356.0  2332.0  2740.0  1598.0  2729.0  2736.0  0.7223  0.5694   \n2       2373.0  2336.0  2738.0  1593.0  2722.0  2734.0  0.7282  0.5708   \n3       2357.0  2331.0  2741.0  1600.0  2728.0  2739.0  0.7227  0.5690   \n4       2368.0  2330.0  2742.0  1599.0  2729.0  2740.0  0.7265  0.5687   \n...        ...     ...     ...     ...     ...     ...     ...     ...   \n204195  1790.0  1222.0  2576.0  1843.0  2910.0  2788.0  0.5278  0.1804   \n204196  1798.0  1227.0  2579.0  1847.0  2900.0  2783.0  0.5306  0.1822   \n204197  1809.0  1238.0  2588.0  1848.0  2874.0  2755.0  0.5344  0.1861   \n204198  1808.0  1237.0  2587.0  1832.0  2872.0  2755.0  0.5340  0.1857   \n204199  1798.0  1230.0  2580.0  1851.0  2899.0  2771.0  0.5306  0.1833   \n\n           C_8     C_9    C_10    C_11  TYPE_ID  MEASUREMENT_NO  \n0       0.9061  0.9301  0.7411  0.9053      1.0             0.0  \n1       0.9021  0.9263  0.7504  0.9089      1.0             0.0  \n2       0.9013  0.9231  0.7468  0.9082      1.0             0.0  \n3       0.9024  0.9275  0.7499  0.9100      1.0             0.0  \n4       0.9028  0.9269  0.7504  0.9104      1.0             0.0  \n...        ...     ...     ...     ...      ...             ...  \n204195  0.8415  1.0000  0.8439  0.9278      9.0             9.0  \n204196  0.8426  1.0000  0.8388  0.9260      9.0             9.0  \n204197  0.8459  1.0000  0.8253  0.9158      9.0             9.0  \n204198  0.8455  1.0000  0.8243  0.9158      9.0             9.0  \n204199  0.8429  1.0000  0.8382  0.9216      9.0             9.0  \n\n[204200 rows x 14 columns]",
      "text/html": "<div>\n<style scoped>\n    .dataframe tbody tr th:only-of-type {\n        vertical-align: middle;\n    }\n\n    .dataframe tbody tr th {\n        vertical-align: top;\n    }\n\n    .dataframe thead th {\n        text-align: right;\n    }\n</style>\n<table border=\"1\" class=\"dataframe\">\n  <thead>\n    <tr style=\"text-align: right;\">\n      <th></th>\n      <th>C_0</th>\n      <th>C_1</th>\n      <th>C_2</th>\n      <th>C_3</th>\n      <th>C_4</th>\n      <th>C_5</th>\n      <th>C_6</th>\n      <th>C_7</th>\n      <th>C_8</th>\n      <th>C_9</th>\n      <th>C_10</th>\n      <th>C_11</th>\n      <th>TYPE_ID</th>\n      <th>MEASUREMENT_NO</th>\n    </tr>\n  </thead>\n  <tbody>\n    <tr>\n      <th>0</th>\n      <td>2370.0</td>\n      <td>2345.0</td>\n      <td>2751.0</td>\n      <td>1604.0</td>\n      <td>2711.0</td>\n      <td>2726.0</td>\n      <td>0.7271</td>\n      <td>0.5739</td>\n      <td>0.9061</td>\n      <td>0.9301</td>\n      <td>0.7411</td>\n      <td>0.9053</td>\n      <td>1.0</td>\n      <td>0.0</td>\n    </tr>\n    <tr>\n      <th>1</th>\n      <td>2356.0</td>\n      <td>2332.0</td>\n      <td>2740.0</td>\n      <td>1598.0</td>\n      <td>2729.0</td>\n      <td>2736.0</td>\n      <td>0.7223</td>\n      <td>0.5694</td>\n      <td>0.9021</td>\n      <td>0.9263</td>\n      <td>0.7504</td>\n      <td>0.9089</td>\n      <td>1.0</td>\n      <td>0.0</td>\n    </tr>\n    <tr>\n      <th>2</th>\n      <td>2373.0</td>\n      <td>2336.0</td>\n      <td>2738.0</td>\n      <td>1593.0</td>\n      <td>2722.0</td>\n      <td>2734.0</td>\n      <td>0.7282</td>\n      <td>0.5708</td>\n      <td>0.9013</td>\n      <td>0.9231</td>\n      <td>0.7468</td>\n      <td>0.9082</td>\n      <td>1.0</td>\n      <td>0.0</td>\n    </tr>\n    <tr>\n      <th>3</th>\n      <td>2357.0</td>\n      <td>2331.0</td>\n      <td>2741.0</td>\n      <td>1600.0</td>\n      <td>2728.0</td>\n      <td>2739.0</td>\n      <td>0.7227</td>\n      <td>0.5690</td>\n      <td>0.9024</td>\n      <td>0.9275</td>\n      <td>0.7499</td>\n      <td>0.9100</td>\n      <td>1.0</td>\n      <td>0.0</td>\n    </tr>\n    <tr>\n      <th>4</th>\n      <td>2368.0</td>\n      <td>2330.0</td>\n      <td>2742.0</td>\n      <td>1599.0</td>\n      <td>2729.0</td>\n      <td>2740.0</td>\n      <td>0.7265</td>\n      <td>0.5687</td>\n      <td>0.9028</td>\n      <td>0.9269</td>\n      <td>0.7504</td>\n      <td>0.9104</td>\n      <td>1.0</td>\n      <td>0.0</td>\n    </tr>\n    <tr>\n      <th>...</th>\n      <td>...</td>\n      <td>...</td>\n      <td>...</td>\n      <td>...</td>\n      <td>...</td>\n      <td>...</td>\n      <td>...</td>\n      <td>...</td>\n      <td>...</td>\n      <td>...</td>\n      <td>...</td>\n      <td>...</td>\n      <td>...</td>\n      <td>...</td>\n    </tr>\n    <tr>\n      <th>204195</th>\n      <td>1790.0</td>\n      <td>1222.0</td>\n      <td>2576.0</td>\n      <td>1843.0</td>\n      <td>2910.0</td>\n      <td>2788.0</td>\n      <td>0.5278</td>\n      <td>0.1804</td>\n      <td>0.8415</td>\n      <td>1.0000</td>\n      <td>0.8439</td>\n      <td>0.9278</td>\n      <td>9.0</td>\n      <td>9.0</td>\n    </tr>\n    <tr>\n      <th>204196</th>\n      <td>1798.0</td>\n      <td>1227.0</td>\n      <td>2579.0</td>\n      <td>1847.0</td>\n      <td>2900.0</td>\n      <td>2783.0</td>\n      <td>0.5306</td>\n      <td>0.1822</td>\n      <td>0.8426</td>\n      <td>1.0000</td>\n      <td>0.8388</td>\n      <td>0.9260</td>\n      <td>9.0</td>\n      <td>9.0</td>\n    </tr>\n    <tr>\n      <th>204197</th>\n      <td>1809.0</td>\n      <td>1238.0</td>\n      <td>2588.0</td>\n      <td>1848.0</td>\n      <td>2874.0</td>\n      <td>2755.0</td>\n      <td>0.5344</td>\n      <td>0.1861</td>\n      <td>0.8459</td>\n      <td>1.0000</td>\n      <td>0.8253</td>\n      <td>0.9158</td>\n      <td>9.0</td>\n      <td>9.0</td>\n    </tr>\n    <tr>\n      <th>204198</th>\n      <td>1808.0</td>\n      <td>1237.0</td>\n      <td>2587.0</td>\n      <td>1832.0</td>\n      <td>2872.0</td>\n      <td>2755.0</td>\n      <td>0.5340</td>\n      <td>0.1857</td>\n      <td>0.8455</td>\n      <td>1.0000</td>\n      <td>0.8243</td>\n      <td>0.9158</td>\n      <td>9.0</td>\n      <td>9.0</td>\n    </tr>\n    <tr>\n      <th>204199</th>\n      <td>1798.0</td>\n      <td>1230.0</td>\n      <td>2580.0</td>\n      <td>1851.0</td>\n      <td>2899.0</td>\n      <td>2771.0</td>\n      <td>0.5306</td>\n      <td>0.1833</td>\n      <td>0.8429</td>\n      <td>1.0000</td>\n      <td>0.8382</td>\n      <td>0.9216</td>\n      <td>9.0</td>\n      <td>9.0</td>\n    </tr>\n  </tbody>\n</table>\n<p>204200 rows × 14 columns</p>\n</div>"
     },
     "metadata": {},
     "execution_count": 23
    }
   ],
   "source": [
    "df"
   ]
  },
  {
   "cell_type": "code",
   "execution_count": 20,
   "metadata": {},
   "outputs": [
    {
     "output_type": "execute_result",
     "data": {
      "text/plain": "      C_0     C_1     C_2     C_3     C_4     C_5     C_6     C_7     C_8  \\\n0  2729.0  2652.0  2708.0  1731.0  2580.0  2266.0  0.8505  0.6815  0.8902   \n\n   C_9         C_10   C_11  TYPE_ID  MEASUREMENT_NO  \n0  1.0  0.6730.8533  0.685   0.8936             1.0  ",
      "text/html": "<div>\n<style scoped>\n    .dataframe tbody tr th:only-of-type {\n        vertical-align: middle;\n    }\n\n    .dataframe tbody tr th {\n        vertical-align: top;\n    }\n\n    .dataframe thead th {\n        text-align: right;\n    }\n</style>\n<table border=\"1\" class=\"dataframe\">\n  <thead>\n    <tr style=\"text-align: right;\">\n      <th></th>\n      <th>C_0</th>\n      <th>C_1</th>\n      <th>C_2</th>\n      <th>C_3</th>\n      <th>C_4</th>\n      <th>C_5</th>\n      <th>C_6</th>\n      <th>C_7</th>\n      <th>C_8</th>\n      <th>C_9</th>\n      <th>C_10</th>\n      <th>C_11</th>\n      <th>TYPE_ID</th>\n      <th>MEASUREMENT_NO</th>\n    </tr>\n  </thead>\n  <tbody>\n    <tr>\n      <th>0</th>\n      <td>2729.0</td>\n      <td>2652.0</td>\n      <td>2708.0</td>\n      <td>1731.0</td>\n      <td>2580.0</td>\n      <td>2266.0</td>\n      <td>0.8505</td>\n      <td>0.6815</td>\n      <td>0.8902</td>\n      <td>1.0</td>\n      <td>0.6730.8533</td>\n      <td>0.685</td>\n      <td>0.8936</td>\n      <td>1.0</td>\n    </tr>\n  </tbody>\n</table>\n</div>"
     },
     "metadata": {},
     "execution_count": 20
    }
   ],
   "source": [
    "df[df['MEASUREMENT_NO']>0]"
   ]
  }
 ]
}